{
  "cells": [
    {
      "cell_type": "markdown",
      "metadata": {},
      "source": [
        "# WitnessChain Simple Tutorial\n",
        "\n",
        "## Login and Challenge Creation\n",
        "\n",
        "This notebook demonstrates the basic WitnessChain workflow:\n",
        "1. **Import** the WitnessChain API\n",
        "2. **Initialize** the client\n",
        "3. **Login** to WitnessChain\n",
        "4. **Set parameters** for the challenge\n",
        "5. **Create a challenge**\n",
        "6. **Print the response**\n",
        "\n",
        "Let's get started!\n",
        "\n",
        "\n",
        "### Prerequisites\n",
        "\n",
        "Make sure you have:\n",
        "- A valid Ethereum private key set in the `PRIVATE_KEY` environment variable\n",
        "    ```bash\n",
        "    export PRIVATE_KEY=abcdef......\n",
        "    ```\n",
        "    \n",
        "- Network access to the WitnessChain API"
      ]
    },
    {
      "cell_type": "markdown",
      "metadata": {},
      "source": [
        "## Step 0: Install Requirements\n",
        "\n",
        "First, let's install the required packages:\n"
      ]
    },
    {
      "cell_type": "code",
      "execution_count": null,
      "metadata": {},
      "outputs": [],
      "source": [
        "# Install required packages\n",
        "%pip install -r requirements.txt\n",
        "\n",
        "print(\"✅ Requirements installed successfully!\")\n",
        "print(\"📦 All necessary packages are now available\")\n"
      ]
    },
    {
      "cell_type": "markdown",
      "metadata": {},
      "source": [
        "## Step 1: Import the API\n",
        "\n",
        "First, let's import the WitnessChain API:\n"
      ]
    },
    {
      "cell_type": "code",
      "execution_count": null,
      "metadata": {},
      "outputs": [],
      "source": [
        "# Import the WitnessChain API\n",
        "from witnesschain import api\n",
        "\n",
        "print(\"✅ WitnessChain API imported successfully!\")\n",
        "print(\"📝 Ready to use the WitnessChain API\")\n"
      ]
    },
    {
      "cell_type": "markdown",
      "metadata": {},
      "source": [
        "## Step 2: Initialize the Client\n",
        "\n",
        "Now let's initialize the WitnessChain client:\n"
      ]
    },
    {
      "cell_type": "code",
      "execution_count": null,
      "metadata": {},
      "outputs": [],
      "source": [
        "# Initialize the WitnessChain client\n",
        "wtns_client = api(\"mainnet\", \"pol\")\n",
        "\n",
        "print(\"✅ WitnessChain client initialized!\")\n",
        "print(f\"🌐 Network: mainnet\")\n",
        "print(f\"🔍 Proof Type: pol (Proof of Location)\")\n",
        "print(f\"📍 Your address: {wtns_client.address}\")\n"
      ]
    },
    {
      "cell_type": "markdown",
      "metadata": {},
      "source": [
        "## Step 3: Login to WitnessChain\n",
        "\n",
        "Now let's authenticate with WitnessChain:\n"
      ]
    },
    {
      "cell_type": "code",
      "execution_count": null,
      "metadata": {},
      "outputs": [],
      "source": [
        "# Login to the WitnessChain\n",
        "wtns_client.login()\n",
        "\n",
        "print(\"✅ Login completed!\")\n",
        "print(\"🔐 You are now authenticated with WitnessChain\")\n"
      ]
    },
    {
      "cell_type": "markdown",
      "metadata": {},
      "source": [
        "## Step 4: Set Up Challenge Parameters\n",
        "\n",
        "Let's set up the watchtower address and proof type:\n"
      ]
    },
    {
      "cell_type": "code",
      "execution_count": null,
      "metadata": {},
      "outputs": [],
      "source": [
        "# Set up the watchtower address\n",
        "watchtower_address = \"IPv4/0x939744500de04b4e2d5d68d233617a5ac6968aa0\"\n",
        "\n",
        "# Set up the proof type\n",
        "proof_type = \"pol\"\n",
        "\n",
        "print(\"✅ Challenge parameters set up!\")\n",
        "print(f\"📍 Watchtower: {watchtower_address}\")\n",
        "print(f\"🔍 Proof Type: {proof_type} (Proof of Location)\")\n"
      ]
    },
    {
      "cell_type": "markdown",
      "metadata": {},
      "source": [
        "## Step 5: Create a Challenge\n",
        "\n",
        "Now let's create a challenge:\n"
      ]
    },
    {
      "cell_type": "code",
      "execution_count": null,
      "metadata": {},
      "outputs": [],
      "source": [
        "# Request a challenge\n",
        "response = wtns_client.request_challenge(watchtower_address, 1, proof_type)\n",
        "\n",
        "print(\"✅ Challenge created!\")\n",
        "print(f\"🎯 Challenge parameters:\")\n",
        "print(f\"   📍 Watchtower: {watchtower_address}\")\n",
        "print(f\"   👥 Number of challengers: 1\")\n",
        "print(f\"   🔍 Proof type: {proof_type}\")\n"
      ]
    },
    {
      "cell_type": "markdown",
      "metadata": {},
      "source": [
        "## Step 6: Print the Response\n",
        "\n",
        "Finally, let's print the response:\n"
      ]
    },
    {
      "cell_type": "code",
      "execution_count": null,
      "metadata": {},
      "outputs": [],
      "source": [
        "# Print the response\n",
        "print(response)\n",
        "\n",
        "print(\"✅ Response printed!\")\n",
        "print(\"🎉 You've successfully completed the WitnessChain workflow!\")\n"
      ]
    },
    {
      "cell_type": "markdown",
      "metadata": {},
      "source": [
        "## Summary\n",
        "\n",
        "That's it! You've successfully completed the basic WitnessChain workflow:\n",
        "\n",
        "1. ✅ **Import**: `from witnesschain import api`\n",
        "2. ✅ **Initialize**: `wtns_client = api(\"mainnet\", \"pol\")`\n",
        "3. ✅ **Login**: `wtns_client.login()`\n",
        "4. ✅ **Set parameters**: `watchtower_address` and `proof_type`\n",
        "5. ✅ **Create challenge**: `wtns_client.request_challenge(watchtower_address, 1, proof_type)`\n",
        "6. ✅ **Print response**: `print(response)`\n",
        "\n",
        "### What You've Learned\n",
        "\n",
        "- How to initialize a WitnessChain client\n",
        "- How to authenticate with the platform\n",
        "- How to create proof verification challenges\n",
        "- The basic workflow for interacting with WitnessChain\n",
        "\n",
        "### Next Steps\n",
        "\n",
        "- Try different watchtower addresses\n",
        "- Experiment with different proof types\n",
        "- Explore the response data structure\n",
        "- Build your own applications using this pattern\n",
        "\n",
        "\n",
        "Happy coding! 🚀\n"
      ]
    }
  ],
  "metadata": {
    "language_info": {
      "name": "python"
    }
  },
  "nbformat": 4,
  "nbformat_minor": 2
}
