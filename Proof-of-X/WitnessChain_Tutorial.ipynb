{
  "cells": [
    {
      "cell_type": "markdown",
      "metadata": {},
      "source": [
        "# WitnessChain Simple Tutorial\n",
        "\n",
        "## Login and Challenge Creation\n",
        "\n",
        "This notebook demonstrates the basic WitnessChain workflow:\n",
        "1. **Install** required packages\n",
        "2. **Import** the WitnessChain API\n",
        "3. **Initialize** the client\n",
        "4. **Login** to WitnessChain\n",
        "5. **Set parameters** for the challenge\n",
        "6. **Create a challenge**\n",
        "7. **Print the response**\n",
        "8. **Check challenge status**\n",
        "\n",
        "\n",
        "### Prerequisites\n",
        "\n",
        "Make sure you have:\n",
        "- A valid Ethereum private key set in the `PRIVATE_KEY` environment variable\n",
        "    ```bash\n",
        "    export PRIVATE_KEY=abcdef......\n",
        "    ```\n",
        "    \n",
        "- Network access to the WitnessChain API\n",
        "\n",
        "\n",
        "Let's get started!\n"
      ]
    },
    {
      "cell_type": "markdown",
      "metadata": {},
      "source": [
        "## Step 0: Install Requirements\n",
        "\n",
        "First, let's install the required packages:\n"
      ]
    },
    {
      "cell_type": "code",
      "execution_count": null,
      "metadata": {},
      "outputs": [],
      "source": [
        "# Install required packages\n",
        "%pip install -r requirements.txt\n",
        "\n",
        "print(\"✅ Requirements installed successfully!\")\n",
        "print(\"📦 All necessary packages are now available\")\n"
      ]
    },
    {
      "cell_type": "markdown",
      "metadata": {},
      "source": [
        "## Step 1: Import the API\n",
        "\n",
        "Now let's import the WitnessChain API:\n"
      ]
    },
    {
      "cell_type": "code",
      "execution_count": null,
      "metadata": {},
      "outputs": [],
      "source": [
        "# Import the WitnessChain API\n",
        "from witnesschain import api\n",
        "\n",
        "print(\"✅ WitnessChain API imported successfully!\")\n",
        "print(\"📝 Ready to use the WitnessChain API\")\n"
      ]
    },
    {
      "cell_type": "markdown",
      "metadata": {},
      "source": [
        "## Step 2: Initialize the Client\n",
        "\n",
        "Now let's initialize the WitnessChain client:\n"
      ]
    },
    {
      "cell_type": "code",
      "execution_count": null,
      "metadata": {},
      "outputs": [],
      "source": [
        "# Initialize the WitnessChain client\n",
        "wtns_client = api(\"mainnet\", \"pol\")\n",
        "\n",
        "print(\"✅ WitnessChain client initialized!\")\n",
        "print(f\"🌐 Network: mainnet\")\n",
        "print(f\"🔍 Proof Type: pol (Proof of Location)\")\n",
        "print(f\"📍 Your address: {wtns_client.address}\")\n"
      ]
    },
    {
      "cell_type": "markdown",
      "metadata": {},
      "source": [
        "## Step 3: Login to WitnessChain\n",
        "\n",
        "Now let's authenticate with WitnessChain:\n"
      ]
    },
    {
      "cell_type": "code",
      "execution_count": null,
      "metadata": {},
      "outputs": [],
      "source": [
        "# Login to the WitnessChain\n",
        "wtns_client.login()\n",
        "\n",
        "print(\"✅ Login completed!\")\n",
        "print(\"🔐 You are now authenticated with WitnessChain\")\n"
      ]
    },
    {
      "cell_type": "markdown",
      "metadata": {},
      "source": [
        "## Step 4: Set Up Challenge Parameters\n",
        "\n",
        "Let's set up the watchtower address and proof type:\n"
      ]
    },
    {
      "cell_type": "code",
      "execution_count": null,
      "metadata": {},
      "outputs": [],
      "source": [
        "# Set up the watchtower address\n",
        "watchtower_address = \"IPv4/0x939744500de04b4e2d5d68d233617a5ac6968aa0\"\n",
        "\n",
        "# Set up the proof type\n",
        "proof_type = \"pol\"\n",
        "\n",
        "print(\"✅ Challenge parameters set up!\")\n",
        "print(f\"📍 Watchtower: {watchtower_address}\")\n",
        "print(f\"🔍 Proof Type: {proof_type} (Proof of Location)\")\n"
      ]
    },
    {
      "cell_type": "markdown",
      "metadata": {},
      "source": [
        "## Step 5: Create a Challenge\n",
        "\n",
        "Now let's create a challenge:\n"
      ]
    },
    {
      "cell_type": "code",
      "execution_count": null,
      "metadata": {},
      "outputs": [],
      "source": [
        "# Request a challenge\n",
        "response = wtns_client.request_challenge(watchtower_address, 1, proof_type)\n",
        "\n",
        "print(\"✅ Challenge created!\")\n",
        "print(f\"🎯 Challenge parameters:\")\n",
        "print(f\"   📍 Watchtower: {watchtower_address}\")\n",
        "print(f\"   👥 Number of challengers: 1\")\n",
        "print(f\"   🔍 Proof type: {proof_type}\")\n"
      ]
    },
    {
      "cell_type": "markdown",
      "metadata": {},
      "source": [
        "## Step 6: Print the Challenge Response\n",
        "\n",
        "Let's print the response from the challenge creation:\n"
      ]
    },
    {
      "cell_type": "code",
      "execution_count": null,
      "metadata": {},
      "outputs": [],
      "source": [
        "# Print the response for challenge request\n",
        "print(response)\n",
        "\n",
        "print(\"✅ Challenge response printed!\")\n",
        "print(\"📝 This contains the challenge details including the challenge_id\")\n"
      ]
    },
    {
      "cell_type": "markdown",
      "metadata": {},
      "source": [
        "## Step 7: Check Challenge Status\n",
        "\n",
        "Now let's check the status of the challenge we just created:\n"
      ]
    },
    {
      "cell_type": "code",
      "execution_count": null,
      "metadata": {},
      "outputs": [],
      "source": [
        "# Get the challenge status\n",
        "response = wtns_client.challenge_status(response[\"challenge_id\"])\n",
        "\n",
        "print(\"✅ Challenge status retrieved!\")\n",
        "print(\"📊 Checking the current status of the challenge\")\n"
      ]
    },
    {
      "cell_type": "markdown",
      "metadata": {},
      "source": [
        "## Step 8: Print the Status Response\n",
        "\n",
        "Finally, let's print the challenge status response:\n"
      ]
    },
    {
      "cell_type": "code",
      "execution_count": null,
      "metadata": {},
      "outputs": [],
      "source": [
        "# Print the response for challenge status\n",
        "print(response)\n",
        "\n",
        "print(\"✅ Challenge status response printed!\")\n",
        "print(\"🎉 You've successfully completed the full WitnessChain workflow!\")\n"
      ]
    },
    {
      "cell_type": "markdown",
      "metadata": {},
      "source": [
        "## Summary\n",
        "\n",
        "That's it! You've successfully completed the full WitnessChain workflow:\n",
        "\n",
        "1. ✅ **Install**: `%pip install -r requirements.txt`\n",
        "2. ✅ **Import**: `from witnesschain import api`\n",
        "3. ✅ **Initialize**: `wtns_client = api(\"mainnet\", \"pol\")`\n",
        "4. ✅ **Login**: `wtns_client.login()`\n",
        "5. ✅ **Set parameters**: `watchtower_address` and `proof_type`\n",
        "6. ✅ **Create challenge**: `wtns_client.request_challenge(watchtower_address, 1, proof_type)`\n",
        "7. ✅ **Print challenge response**: `print(response)`\n",
        "8. ✅ **Check status**: `wtns_client.challenge_status(response[\"challenge_id\"])`\n",
        "9. ✅ **Print status response**: `print(response)`\n",
        "\n",
        "### What You've Learned\n",
        "\n",
        "- How to install and import the WitnessChain API\n",
        "- How to initialize a WitnessChain client\n",
        "- How to authenticate with the platform\n",
        "- How to create proof verification challenges\n",
        "- How to check the status of challenges\n",
        "- The complete workflow for interacting with WitnessChain\n",
        "\n",
        "### Next Steps\n",
        "\n",
        "- Try different watchtower addresses\n",
        "- Experiment with different proof types\n",
        "- Explore the response data structures\n",
        "- Build your own applications using this pattern\n",
        "- Monitor challenge status over time\n",
        "\n",
        "Happy coding! 🚀\n"
      ]
    }
  ],
  "metadata": {
    "language_info": {
      "name": "python"
    }
  },
  "nbformat": 4,
  "nbformat_minor": 2
}
